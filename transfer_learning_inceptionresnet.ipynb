{
 "cells": [
  {
   "cell_type": "markdown",
   "metadata": {
    "collapsed": true
   },
   "source": [
    "# Transfer Learning in Tensorflow with Pre-trained Inception-Resnet Model from TF-Slim"
   ]
  },
  {
   "cell_type": "markdown",
   "metadata": {},
   "source": [
    "In this project, we are going to use a pre-trained inception-resnet model fromTensorflow Slim (TF-Slim)\n",
    "to classify images from another dataset. TF-Slim is a wrapper for tensorflow that makes it particularly easy to use pre-trained models for image classification,\n",
    "amongst other things.\n",
    "<br>\n",
    "<br> You can check out the official documentation of TF-Slim here: https://github.com/tensorflow/models/blob/master/slim/README.md\n",
    "<br>As well as a slim walk-through with examples: https://github.com/tensorflow/models/blob/master/slim/slim_walkthrough.ipynb\n",
    "\n",
    "<br>One modification to adapt a pre-trained model to your use case, is to remove the final pre-softmax layer and to replace it\n",
    "with weights/logits that correspond to the number of classes/labels in your (smaller) dataset. We then tune the model on this new dataset.\n",
    "\n",
    "<br>Before you write any code, be sure to install TF-Slim and the corresponding image models library.\n",
    "The instructions are found in the official documentation: https://github.com/tensorflow/models/blob/master/slim/README.md\n",
    "<br><br>Note, first install the models library and then place slim in this models directory.\n",
    "<br>I found the following resource clearer than the documentation for figuring out how to create and structure the directories:\n",
    "https://hackaday.io/project/20448-elephant-ai/log/56896-retraining-tensorflow-inception-v3-using-tensorflow-slim-part-1\n",
    "\n",
    "<br>I also assume you've converted your data into TFRecord format, see my other post on how to do that.\n",
    "\n",
    "<br> Okay! Now we can code!\n",
    "First, let us import all the things we will need.\n",
    "\n",
    "<br>Note that the imports \"inception_resnet_v2\" and \"inception_preprocessing\" come from the TF-Slim models library."
   ]
  },
  {
   "cell_type": "code",
   "execution_count": null,
   "metadata": {
    "collapsed": true
   },
   "outputs": [],
   "source": [
    "import os\n",
    "import tensorflow as tf\n",
    "import inception_resnet_v2  #From: https://github.com/tensorflow/models/blob/master/slim/nets/inception_resnet_v2.py\n",
    "import inception_preprocessing # From: https://github.com/tensorflow/models/blob/master/slim/preprocessing/inception_preprocessing.py\n",
    "from tensorflow.contrib import slim"
   ]
  },
  {
   "cell_type": "code",
   "execution_count": null,
   "metadata": {
    "collapsed": true
   },
   "outputs": [],
   "source": [
    ""
   ]
  },
  {
   "cell_type": "code",
   "execution_count": null,
   "metadata": {},
   "outputs": [],
   "source": [
    ""
   ]
  }
 ],
 "metadata": {
  "kernelspec": {
   "display_name": "Python 2",
   "language": "python",
   "name": "python2"
  },
  "language_info": {
   "codemirror_mode": {
    "name": "ipython",
    "version": 2.0
   },
   "file_extension": ".py",
   "mimetype": "text/x-python",
   "name": "python",
   "nbconvert_exporter": "python",
   "pygments_lexer": "ipython2",
   "version": "2.7.11"
  }
 },
 "nbformat": 4,
 "nbformat_minor": 0
}