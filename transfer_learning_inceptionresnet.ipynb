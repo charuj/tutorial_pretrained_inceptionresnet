{
 "cells": [
  {
   "cell_type": "markdown",
   "metadata": {
    "collapsed": true
   },
   "source": [
    "# Transfer Learning in Tensorflow with Pre-trained Inception-Resnet Model from TF-Slim"
   ]
  },
  {
   "cell_type": "markdown",
   "metadata": {},
   "source": [
    "In this project, we are going to use a pre-trained inception-resnet model fromTensorflow Slim (TF-Slim)\n",
    "to classify images from another dataset. TF-Slim is a wrapper for tensorflow that makes it particularly easy to use pre-trained models for image classification,\n",
    "amongst other things.\n",
    "<br>\n",
    "<br> You can check out the official documentation of TF-Slim here: https://github.com/tensorflow/models/blob/master/slim/README.md\n",
    "<br>As well as a slim walk-through with examples: https://github.com/tensorflow/models/blob/master/slim/slim_walkthrough.ipynb\n",
    "\n",
    "<br>One modification to adapt a pre-trained model to your use case, is to remove the final pre-softmax layer and to replace it\n",
    "with weights/logits that correspond to the number of classes/labels in your (smaller) dataset. We then tune the model on this new dataset."
   ]
  },
  {
   "cell_type": "code",
   "execution_count": null,
   "metadata": {},
   "outputs": [],
   "source": [
    ""
   ]
  },
  {
   "cell_type": "code",
   "execution_count": null,
   "metadata": {},
   "outputs": [],
   "source": [
    ""
   ]
  }
 ],
 "metadata": {
  "kernelspec": {
   "display_name": "Python 2",
   "language": "python",
   "name": "python2"
  },
  "language_info": {
   "codemirror_mode": {
    "name": "ipython",
    "version": 2.0
   },
   "file_extension": ".py",
   "mimetype": "text/x-python",
   "name": "python",
   "nbconvert_exporter": "python",
   "pygments_lexer": "ipython2",
   "version": "2.7.6"
  }
 },
 "nbformat": 4,
 "nbformat_minor": 0
}